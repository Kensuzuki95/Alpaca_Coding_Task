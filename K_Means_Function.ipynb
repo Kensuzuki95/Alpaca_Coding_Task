{
  "nbformat": 4,
  "nbformat_minor": 0,
  "metadata": {
    "colab": {
      "name": "K-Means Function.ipynb",
      "provenance": [],
      "authorship_tag": "ABX9TyPj7pXjn6l2j2ducaXuP+mM",
      "include_colab_link": true
    },
    "kernelspec": {
      "name": "python3",
      "display_name": "Python 3"
    },
    "language_info": {
      "name": "python"
    }
  },
  "cells": [
    {
      "cell_type": "markdown",
      "metadata": {
        "id": "view-in-github",
        "colab_type": "text"
      },
      "source": [
        "<a href=\"https://colab.research.google.com/github/Kensuzuki95/Alpaca_Coding_Task/blob/main/K_Means_Function.ipynb\" target=\"_parent\"><img src=\"https://colab.research.google.com/assets/colab-badge.svg\" alt=\"Open In Colab\"/></a>"
      ]
    },
    {
      "cell_type": "markdown",
      "metadata": {
        "id": "z9kuluod4_3H"
      },
      "source": [
        "## Coding Task \n",
        "\n",
        "- **Create a K-Means Calculation Function**\n",
        "\n",
        "Question:\n",
        "\n",
        "Given a set of two dimensional points P (e.g. [(1.1, 2.5), (3.4,1.9)...]; the size of set can be100s), write a function that calculates simple K-means. The expected returned value from the function is 1) a set of cluster id that each point belongs to, and 2) coordinates of centroids at the end of iteration.\n",
        "\n",
        "Although you can write this in any language, we would recommend for you to use python.Please feel free to research and look up any information you need, but please note plagiarism will not be tolerated.You may spend as much time as needed, but as a frame of reference, an hour would be the maximum time frame. If more time is required, please send over the intermediate code at the one hour mark.\n",
        "\n",
        "Minimum: implementation of the k-means function\n",
        "Expected: implement an interface similar to sklearn (subset is fine)\n",
        "Bonus: test code Bonus: visualization\n",
        "Deliverable: GitHub Repository []\n"
      ]
    },
    {
      "cell_type": "markdown",
      "metadata": {
        "id": "DJeiCL0l48Ty"
      },
      "source": [
        "## Load Necesarry Packages"
      ]
    },
    {
      "cell_type": "code",
      "metadata": {
        "id": "m5kxlCPs4u-q"
      },
      "source": [
        ""
      ],
      "execution_count": null,
      "outputs": []
    }
  ]
}